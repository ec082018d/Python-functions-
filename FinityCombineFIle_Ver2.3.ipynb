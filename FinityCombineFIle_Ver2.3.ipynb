{
 "cells": [
  {
   "cell_type": "code",
   "execution_count": null,
   "metadata": {},
   "outputs": [],
   "source": [
    "import glob\n",
    "import time\n",
    "import pandas as pd"
   ]
  },
  {
   "cell_type": "code",
   "execution_count": null,
   "metadata": {},
   "outputs": [],
   "source": [
    "#Function to combine files to one\n",
    "\n",
    "def createCombinedFile(\n",
    "        pathIN, pathOut, fileType):\n",
    "    \n",
    "    dataframes = []\n",
    "    \n",
    "    #Check File Type then\n",
    "    #create a DataFrame for every file and store in a List\n",
    "    if fileType == \"csv\":\n",
    "        fileType = \"*.\" + fileType\n",
    "        fullpathIN = pathIN + fileType\n",
    "        filenames = glob.glob(fullpathIN)\n",
    "        \n",
    "        for filename in filenames:\n",
    "            dataframes.append(pd.read_csv(filename,  dtype = str))\n",
    "            \n",
    "    elif fileType == \"txt\":\n",
    "        fileType = \"*.\" + fileType\n",
    "        fullpathIN = pathIN + fileType\n",
    "        filenames = glob.glob(fullpathIN)\n",
    "        \n",
    "        for filename in filenames:\n",
    "            dataframes.append(pd.read_csv(filename, sep ='\\t',  dtype = str))\n",
    "    else:\n",
    "        print(\"Error: File type is not recognized or defined.\")\n",
    "        \n",
    "    totalDFsRows = []\n",
    "    \n",
    "    #Get total rows for all Dataframes in the List \n",
    "    for dataframe in dataframes:\n",
    "        totalDFRowCount = int(dataframe.shape[0])\n",
    "        totalDFsRows.append(totalDFRowCount)\n",
    "        \n",
    "    print(\"Total Rows in All Files: \", sum(totalDFsRows), \"\\n\")\n",
    "        \n",
    "    #Combine all Dataframes to one DataFrame\n",
    "    exportFinal = pd.concat(dataframes, ignore_index=True, sort=False)\n",
    "    \n",
    "    #Get total rows for new DataFrame\n",
    "    totalFinalRows = int(exportFinal.shape[0])\n",
    "    print(\"Total Rows in the Final Files: \", totalFinalRows, \"\\n\")\n",
    "    \n",
    "    #Check if both sources row counts match before printing\n",
    "    if sum(totalDFsRows) == totalFinalRows:           \n",
    "        #Show head of new DataFrame for confirmation\n",
    "        print(\"First 5 rows of Final File below: \\n\")\n",
    "        print(exportFinal.head())\n",
    "    \n",
    "        #Export DataFrame to File\n",
    "        filename = \"ExportFinal_\" + time.strftime(\"%Y%m%d-%H%M%S\") + \".\"\n",
    "        ext = \"txt\"\n",
    "    \n",
    "        print(\"\\n\")\n",
    "        print(\"Exporting Final File: \" + filename + ext + \"\\n\")\n",
    "        exportFinal.to_csv(pathOut + filename + ext, sep='\\t')\n",
    "        print(filename + ext + \" export is complete. \\n\")\n",
    "        print(\"Export File Location: \" + pathOut + \"\\n\")\n",
    "    else:\n",
    "        print(\"Export Aborted - Row Counts mismatch between Files and Final DataFrame. \\n Please review.\")\n",
    "    "
   ]
  },
  {
   "cell_type": "code",
   "execution_count": null,
   "metadata": {
    "scrolled": true
   },
   "outputs": [],
   "source": [
    "testin=\"\"  #add directory where files are located\n",
    "testOut=\"\" #add directory distination for final file\n",
    "fileT=\"\" #add the file extention \"txt\" or \"csv\"\n",
    "\n",
    "createCombinedFile(testin, testOut, fileT)"
   ]
  },
  {
   "cell_type": "code",
   "execution_count": null,
   "metadata": {},
   "outputs": [],
   "source": []
  }
 ],
 "metadata": {
  "kernelspec": {
   "display_name": "Python 3",
   "language": "python",
   "name": "python3"
  },
  "language_info": {
   "codemirror_mode": {
    "name": "ipython",
    "version": 3
   },
   "file_extension": ".py",
   "mimetype": "text/x-python",
   "name": "python",
   "nbconvert_exporter": "python",
   "pygments_lexer": "ipython3",
   "version": "3.7.1"
  }
 },
 "nbformat": 4,
 "nbformat_minor": 2
}
