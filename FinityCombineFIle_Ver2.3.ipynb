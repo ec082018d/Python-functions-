{
 "cells": [
  {
   "cell_type": "code",
   "execution_count": 7,
   "metadata": {},
   "outputs": [],
   "source": [
    "import glob\n",
    "import time\n",
    "import pandas as pd"
   ]
  },
  {
   "cell_type": "code",
   "execution_count": 8,
   "metadata": {},
   "outputs": [],
   "source": [
    "#Function to combine files to one\n",
    "\n",
    "def createCombinedFile(\n",
    "        pathIN, pathOut, fileType):\n",
    "    \n",
    "    dataframes = []\n",
    "    \n",
    "    #Check File Type then\n",
    "    #create a DataFrame for every file and store in a List\n",
    "    if fileType == \"csv\":\n",
    "        fileType = \"*.\" + fileType\n",
    "        fullpathIN = pathIN + fileType\n",
    "        filenames = glob.glob(fullpathIN)\n",
    "        \n",
    "        for filename in filenames:\n",
    "            dataframes.append(pd.read_csv(filename,  dtype = str))\n",
    "            \n",
    "    elif fileType == \"txt\":\n",
    "        fileType = \"*.\" + fileType\n",
    "        fullpathIN = pathIN + fileType\n",
    "        filenames = glob.glob(fullpathIN)\n",
    "        \n",
    "        for filename in filenames:\n",
    "            dataframes.append(pd.read_csv(filename, sep ='\\t',  dtype = str))\n",
    "    else:\n",
    "        print(\"Error: File type is not recognized or defined.\")\n",
    "        \n",
    "    totalDFsRows = []\n",
    "    \n",
    "    #Get total rows for all Dataframes in the List \n",
    "    for dataframe in dataframes:\n",
    "        totalDFRowCount = int(dataframe.shape[0])\n",
    "        totalDFsRows.append(totalDFRowCount)\n",
    "        \n",
    "    print(\"Total Rows in All Files: \", sum(totalDFsRows), \"\\n\")\n",
    "        \n",
    "    #Combine all Dataframes to one DataFrame\n",
    "    exportFinal = pd.concat(dataframes, ignore_index=True, sort=False)\n",
    "    \n",
    "    #Get total rows for new DataFrame\n",
    "    totalFinalRows = int(exportFinal.shape[0])\n",
    "    print(\"Total Rows in the Final Files: \", totalFinalRows, \"\\n\")\n",
    "    \n",
    "    #Check if both sources row counts match before printing\n",
    "    if sum(totalDFsRows) == totalFinalRows:           \n",
    "        #Show head of new DataFrame for confirmation\n",
    "        print(\"First 5 rows of Final File below: \\n\")\n",
    "        print(exportFinal.head())\n",
    "    \n",
    "        #Export DataFrame to File\n",
    "        filename = \"ExportFinal_\" + time.strftime(\"%Y%m%d-%H%M%S\") + \".\"\n",
    "        ext = \"txt\"\n",
    "    \n",
    "        print(\"\\n\")\n",
    "        print(\"Exporting Final File: \" + filename + ext + \"\\n\")\n",
    "        exportFinal.to_csv(pathOut + filename + ext, sep='\\t')\n",
    "        print(filename + ext + \" export is complete. \\n\")\n",
    "        print(\"Export File Location: \" + pathOut + \"\\n\")\n",
    "    else:\n",
    "        print(\"Export Aborted - Row Counts mismatch between Files and Final DataFrame. \\n Please review.\")\n",
    "    "
   ]
  },
  {
   "cell_type": "code",
   "execution_count": 10,
   "metadata": {
    "scrolled": true
   },
   "outputs": [
    {
     "name": "stdout",
     "output_type": "stream",
     "text": [
      "Total Rows in All Files:  0 \n",
      "\n"
     ]
    },
    {
     "ename": "ValueError",
     "evalue": "No objects to concatenate",
     "output_type": "error",
     "traceback": [
      "\u001b[1;31m---------------------------------------------------------------------------\u001b[0m",
      "\u001b[1;31mValueError\u001b[0m                                Traceback (most recent call last)",
      "\u001b[1;32m<ipython-input-10-f5644526e529>\u001b[0m in \u001b[0;36m<module>\u001b[1;34m\u001b[0m\n\u001b[0;32m      3\u001b[0m \u001b[0mfileT\u001b[0m\u001b[1;33m=\u001b[0m\u001b[1;34m\"csv\"\u001b[0m\u001b[1;33m\u001b[0m\u001b[1;33m\u001b[0m\u001b[0m\n\u001b[0;32m      4\u001b[0m \u001b[1;33m\u001b[0m\u001b[0m\n\u001b[1;32m----> 5\u001b[1;33m \u001b[0mcreateCombinedFile\u001b[0m\u001b[1;33m(\u001b[0m\u001b[0mtestin\u001b[0m\u001b[1;33m,\u001b[0m \u001b[0mtestOut\u001b[0m\u001b[1;33m,\u001b[0m \u001b[0mfileT\u001b[0m\u001b[1;33m)\u001b[0m\u001b[1;33m\u001b[0m\u001b[1;33m\u001b[0m\u001b[0m\n\u001b[0m",
      "\u001b[1;32m<ipython-input-8-f057150103bf>\u001b[0m in \u001b[0;36mcreateCombinedFile\u001b[1;34m(pathIN, pathOut, fileType)\u001b[0m\n\u001b[0;32m     36\u001b[0m \u001b[1;33m\u001b[0m\u001b[0m\n\u001b[0;32m     37\u001b[0m     \u001b[1;31m#Combine all Dataframes to one DataFrame\u001b[0m\u001b[1;33m\u001b[0m\u001b[1;33m\u001b[0m\u001b[1;33m\u001b[0m\u001b[0m\n\u001b[1;32m---> 38\u001b[1;33m     \u001b[0mexportFinal\u001b[0m \u001b[1;33m=\u001b[0m \u001b[0mpd\u001b[0m\u001b[1;33m.\u001b[0m\u001b[0mconcat\u001b[0m\u001b[1;33m(\u001b[0m\u001b[0mdataframes\u001b[0m\u001b[1;33m,\u001b[0m \u001b[0mignore_index\u001b[0m\u001b[1;33m=\u001b[0m\u001b[1;32mTrue\u001b[0m\u001b[1;33m,\u001b[0m \u001b[0msort\u001b[0m\u001b[1;33m=\u001b[0m\u001b[1;32mFalse\u001b[0m\u001b[1;33m)\u001b[0m\u001b[1;33m\u001b[0m\u001b[1;33m\u001b[0m\u001b[0m\n\u001b[0m\u001b[0;32m     39\u001b[0m \u001b[1;33m\u001b[0m\u001b[0m\n\u001b[0;32m     40\u001b[0m     \u001b[1;31m#Get total rows for new DataFrame\u001b[0m\u001b[1;33m\u001b[0m\u001b[1;33m\u001b[0m\u001b[1;33m\u001b[0m\u001b[0m\n",
      "\u001b[1;32m~\\AppData\\Local\\Continuum\\anaconda3\\lib\\site-packages\\pandas\\core\\reshape\\concat.py\u001b[0m in \u001b[0;36mconcat\u001b[1;34m(objs, axis, join, join_axes, ignore_index, keys, levels, names, verify_integrity, sort, copy)\u001b[0m\n\u001b[0;32m    226\u001b[0m                        \u001b[0mkeys\u001b[0m\u001b[1;33m=\u001b[0m\u001b[0mkeys\u001b[0m\u001b[1;33m,\u001b[0m \u001b[0mlevels\u001b[0m\u001b[1;33m=\u001b[0m\u001b[0mlevels\u001b[0m\u001b[1;33m,\u001b[0m \u001b[0mnames\u001b[0m\u001b[1;33m=\u001b[0m\u001b[0mnames\u001b[0m\u001b[1;33m,\u001b[0m\u001b[1;33m\u001b[0m\u001b[1;33m\u001b[0m\u001b[0m\n\u001b[0;32m    227\u001b[0m                        \u001b[0mverify_integrity\u001b[0m\u001b[1;33m=\u001b[0m\u001b[0mverify_integrity\u001b[0m\u001b[1;33m,\u001b[0m\u001b[1;33m\u001b[0m\u001b[1;33m\u001b[0m\u001b[0m\n\u001b[1;32m--> 228\u001b[1;33m                        copy=copy, sort=sort)\n\u001b[0m\u001b[0;32m    229\u001b[0m     \u001b[1;32mreturn\u001b[0m \u001b[0mop\u001b[0m\u001b[1;33m.\u001b[0m\u001b[0mget_result\u001b[0m\u001b[1;33m(\u001b[0m\u001b[1;33m)\u001b[0m\u001b[1;33m\u001b[0m\u001b[1;33m\u001b[0m\u001b[0m\n\u001b[0;32m    230\u001b[0m \u001b[1;33m\u001b[0m\u001b[0m\n",
      "\u001b[1;32m~\\AppData\\Local\\Continuum\\anaconda3\\lib\\site-packages\\pandas\\core\\reshape\\concat.py\u001b[0m in \u001b[0;36m__init__\u001b[1;34m(self, objs, axis, join, join_axes, keys, levels, names, ignore_index, verify_integrity, copy, sort)\u001b[0m\n\u001b[0;32m    260\u001b[0m \u001b[1;33m\u001b[0m\u001b[0m\n\u001b[0;32m    261\u001b[0m         \u001b[1;32mif\u001b[0m \u001b[0mlen\u001b[0m\u001b[1;33m(\u001b[0m\u001b[0mobjs\u001b[0m\u001b[1;33m)\u001b[0m \u001b[1;33m==\u001b[0m \u001b[1;36m0\u001b[0m\u001b[1;33m:\u001b[0m\u001b[1;33m\u001b[0m\u001b[1;33m\u001b[0m\u001b[0m\n\u001b[1;32m--> 262\u001b[1;33m             \u001b[1;32mraise\u001b[0m \u001b[0mValueError\u001b[0m\u001b[1;33m(\u001b[0m\u001b[1;34m'No objects to concatenate'\u001b[0m\u001b[1;33m)\u001b[0m\u001b[1;33m\u001b[0m\u001b[1;33m\u001b[0m\u001b[0m\n\u001b[0m\u001b[0;32m    263\u001b[0m \u001b[1;33m\u001b[0m\u001b[0m\n\u001b[0;32m    264\u001b[0m         \u001b[1;32mif\u001b[0m \u001b[0mkeys\u001b[0m \u001b[1;32mis\u001b[0m \u001b[1;32mNone\u001b[0m\u001b[1;33m:\u001b[0m\u001b[1;33m\u001b[0m\u001b[1;33m\u001b[0m\u001b[0m\n",
      "\u001b[1;31mValueError\u001b[0m: No objects to concatenate"
     ]
    }
   ],
   "source": [
    "testin=\"E:\\\\Combine Files request\\\\files\\\\\"\n",
    "testOut=\"E:\\\\Combine Files request\\\\files\\\\\"\n",
    "fileT=\"txt\"\n",
    "\n",
    "createCombinedFile(testin, testOut, fileT)"
   ]
  },
  {
   "cell_type": "code",
   "execution_count": null,
   "metadata": {},
   "outputs": [],
   "source": []
  }
 ],
 "metadata": {
  "kernelspec": {
   "display_name": "Python 3",
   "language": "python",
   "name": "python3"
  },
  "language_info": {
   "codemirror_mode": {
    "name": "ipython",
    "version": 3
   },
   "file_extension": ".py",
   "mimetype": "text/x-python",
   "name": "python",
   "nbconvert_exporter": "python",
   "pygments_lexer": "ipython3",
   "version": "3.7.3"
  }
 },
 "nbformat": 4,
 "nbformat_minor": 2
}
